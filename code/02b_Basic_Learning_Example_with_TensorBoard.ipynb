{
 "cells": [
  {
   "cell_type": "markdown",
   "metadata": {},
   "source": [
    "# Plot learning progress in TensorBoard\n",
    "\n",
    "## Modified from\n",
    "https://www.tensorflow.org/versions/r0.12/get_started/\n",
    "was\n",
    "https://www.tensorflow.org/get_started/\n",
    "\n",
    "## Summary explanation\n",
    "https://www.tensorflow.org/how_tos/summaries_and_tensorboard/"
   ]
  },
  {
   "cell_type": "code",
   "execution_count": 1,
   "metadata": {},
   "outputs": [
    {
     "name": "stderr",
     "output_type": "stream",
     "text": [
      "/usr/local/Cellar/python3/3.6.2/Frameworks/Python.framework/Versions/3.6/lib/python3.6/importlib/_bootstrap.py:205: RuntimeWarning: compiletime version 3.5 of module 'tensorflow.python.framework.fast_tensor_util' does not match runtime version 3.6\n",
      "  return f(*args, **kwds)\n"
     ]
    },
    {
     "name": "stdout",
     "output_type": "stream",
     "text": [
      "0 [0.42969406] [0.15180029]\n",
      "20 [0.16488475] [0.262207]\n",
      "40 [0.1135532] [0.29210576]\n",
      "60 [0.102831] [0.29835105]\n",
      "80 [0.10059135] [0.29965556]\n",
      "100 [0.1001235] [0.29992807]\n",
      "120 [0.10002579] [0.299985]\n",
      "140 [0.10000539] [0.29999688]\n",
      "160 [0.1000011] [0.29999936]\n",
      "180 [0.10000023] [0.2999999]\n",
      "200 [0.10000009] [0.29999995]\n"
     ]
    }
   ],
   "source": [
    "# code from https://www.tensorflow.org/versions/r0.12/get_started/ was \n",
    "# https://www.tensorflow.org/get_started/\n",
    "\n",
    "import tensorflow as tf\n",
    "import numpy as np\n",
    "\n",
    "# ************************************************\n",
    "# ********** The Observeations *******************\n",
    "# ************************************************\n",
    "# Create 100 phony x, y data points in NumPy, y = x * 0.1 + 0.3\n",
    "x_data = np.random.rand(100).astype(np.float32)\n",
    "y_data = x_data * 0.1 + 0.3\n",
    "\n",
    "\n",
    "# ************************************************\n",
    "# ********** The Prediction Function (Model) *****\n",
    "# ************************************************\n",
    "# Added names to the variables and put them within a scope.\n",
    "# This will help the graph make more sense.\n",
    "# Changed y to y_pred so is not confused with generic y on graph\n",
    "with tf.variable_scope('model'):\n",
    "    W = tf.Variable(tf.random_uniform([1], -1.0, 1.0),name='W')\n",
    "    b = tf.Variable(tf.zeros([1]),name='b')\n",
    "    y_pred = W * x_data + b\n",
    "\n",
    "\n",
    "# ************************************************\n",
    "# ********** The Error Function ******************\n",
    "# ************************************************\n",
    "# Minimize the mean squared errors.\n",
    "with tf.variable_scope('error_function'):\n",
    "    loss = tf.reduce_mean(tf.square(y_pred - y_data))\n",
    "\n",
    "    \n",
    "optimizer = tf.train.GradientDescentOptimizer(0.5)\n",
    "train = optimizer.minimize(loss)\n",
    "\n",
    "# Before starting, initialize the variables.  We will 'run' this first.\n",
    "init = tf.global_variables_initializer()\n",
    "\n",
    "# Launch the graph.\n",
    "sess = tf.Session()\n",
    "sess.run(init)\n",
    "\n",
    "#*************************************************\n",
    "# jwm: Create the summary writer\n",
    "tb_dir = '/Users/shambhavi.srivastava/tensorflow_dataday2018/tensorlog/' # jwm: create this directory (no jmugan, of course)\n",
    "sum_writer = tf.summary.FileWriter(tb_dir,sess.graph)\n",
    "\n",
    "# jwm: Add a summary for loss\n",
    "tf.summary.scalar('loss', loss)\n",
    "\n",
    "# jwm: Add histogram summaries\n",
    "vars = tf.trainable_variables()\n",
    "for variable in vars:\n",
    "    # jwm: get rid of warning: \n",
    "    # INFO:tensorflow:Summary name W:0 is illegal; using W_0 instead.\n",
    "    tf.summary.histogram(variable.name.replace(':','_'), variable)\n",
    "\n",
    "# Grab all of the summaries\n",
    "merged = tf.summary.merge_all()\n",
    "#*************************************************\n",
    "\n",
    "# Fit the line.\n",
    "for step in range(201):\n",
    "    # Add merged op to session.run calll\n",
    "    out = sess.run([train, merged])\n",
    "    sum_writer.add_summary(out[1],step)  #  <------- Must add summary\n",
    "    if step % 20 == 0:\n",
    "        print(step, sess.run(W), sess.run(b))\n",
    "\n",
    "# Learns best fit is W: [0.1], b: [0.3]"
   ]
  },
  {
   "cell_type": "markdown",
   "metadata": {},
   "source": [
    "# Look in /Users/jmugan/tensorboard (your directory)\n",
    "# Run\n",
    "\n",
    "# `tensorboard --logdir=/Users/jmugan/tensorlog`"
   ]
  },
  {
   "cell_type": "code",
   "execution_count": null,
   "metadata": {
    "collapsed": true
   },
   "outputs": [],
   "source": []
  }
 ],
 "metadata": {
  "kernelspec": {
   "display_name": "Python 3",
   "language": "python",
   "name": "python3"
  },
  "language_info": {
   "codemirror_mode": {
    "name": "ipython",
    "version": 3
   },
   "file_extension": ".py",
   "mimetype": "text/x-python",
   "name": "python",
   "nbconvert_exporter": "python",
   "pygments_lexer": "ipython3",
   "version": "3.6.2"
  }
 },
 "nbformat": 4,
 "nbformat_minor": 2
}
