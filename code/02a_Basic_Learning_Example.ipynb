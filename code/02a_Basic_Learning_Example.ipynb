{
 "cells": [
  {
   "cell_type": "markdown",
   "metadata": {},
   "source": [
    "## Basic example that requires learning:  $y = wx + b$\n",
    "\n",
    "## We want the system to learn:  $y = 0.1x + 0.3$\n",
    "\n",
    "### Taken from TensorFlow tutorial\n",
    "https://www.tensorflow.org/versions/r0.12/get_started/\n",
    "was\n",
    "https://www.tensorflow.org/get_started/"
   ]
  },
  {
   "cell_type": "code",
   "execution_count": 1,
   "metadata": {},
   "outputs": [
    {
     "name": "stdout",
     "output_type": "stream",
     "text": [
      "0 [ 0.77582711] [-0.05383477]\n",
      "20 [ 0.28387514] [ 0.20862755]\n",
      "40 [ 0.14950231] [ 0.275401]\n",
      "60 [ 0.11332686] [ 0.29337755]\n",
      "80 [ 0.10358781] [ 0.29821715]\n",
      "100 [ 0.10096591] [ 0.29952002]\n",
      "120 [ 0.10026004] [ 0.29987079]\n",
      "140 [ 0.10007] [ 0.29996523]\n",
      "160 [ 0.10001883] [ 0.29999065]\n",
      "180 [ 0.10000507] [ 0.29999751]\n",
      "200 [ 0.10000136] [ 0.29999933]\n"
     ]
    }
   ],
   "source": [
    "# code from https://www.tensorflow.org/versions/r0.12/get_started/ was\n",
    "# https://www.tensorflow.org/get_started/\n",
    "\n",
    "import tensorflow as tf\n",
    "import numpy as np\n",
    "\n",
    "# ************************************************\n",
    "# ********** The Observeations *******************\n",
    "# ************************************************\n",
    "# Create a bunch of data\n",
    "# Create 100 phony x, y data points in NumPy, y = x * 0.1 + 0.3 (machine to learn)\n",
    "x_data = np.random.rand(100).astype(np.float32) # 100 datasets\n",
    "y_data = x_data * 0.1 + 0.3\n",
    "\n",
    "\n",
    "# ************************************************\n",
    "# ********** The Prediction Function (Model) *****\n",
    "# ************************************************\n",
    "# Try to find values for W and b that compute y_data = W * x_data + b\n",
    "# (We know that W should be 0.1 and b 0.3, but TensorFlow will\n",
    "# figure that out for us.)\n",
    "W = tf.Variable(tf.random_uniform([1], -1.0, 1.0))\n",
    "b = tf.Variable(tf.zeros([1]))\n",
    "y = W * x_data + b\n",
    "\n",
    "\n",
    "# ************************************************\n",
    "# ********** The Error Function ******************\n",
    "# ************************************************\n",
    "# Minimize the mean squared errors.\n",
    "\n",
    "loss = tf.reduce_mean(tf.square(y - y_data))\n",
    "\n",
    "optimizer = tf.train.GradientDescentOptimizer(0.5)\n",
    "train = optimizer.minimize(loss)\n",
    "\n",
    "# Before starting, initialize the variables.  We will 'run' this first.\n",
    "init = tf.global_variables_initializer()\n",
    "\n",
    "# Launch the graph.\n",
    "sess = tf.Session()\n",
    "sess.run(init)\n",
    "\n",
    "# Fit the line.\n",
    "for step in range(201):\n",
    "    sess.run(train)\n",
    "    if step % 20 == 0:\n",
    "        print(step, sess.run(W), sess.run(b))\n",
    "\n",
    "# Learns best fit is W: [0.1], b: [0.3]"
   ]
  },
  {
   "cell_type": "code",
   "execution_count": null,
   "metadata": {
    "collapsed": true
   },
   "outputs": [],
   "source": []
  }
 ],
 "metadata": {
  "kernelspec": {
   "display_name": "Python 3",
   "language": "python",
   "name": "python3"
  },
  "language_info": {
   "codemirror_mode": {
    "name": "ipython",
    "version": 3
   },
   "file_extension": ".py",
   "mimetype": "text/x-python",
   "name": "python",
   "nbconvert_exporter": "python",
   "pygments_lexer": "ipython3",
   "version": "3.6.2"
  }
 },
 "nbformat": 4,
 "nbformat_minor": 1
}
