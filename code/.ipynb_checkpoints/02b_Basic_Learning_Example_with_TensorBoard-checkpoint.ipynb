{
 "cells": [
  {
   "cell_type": "markdown",
   "metadata": {
    "deletable": true,
    "editable": true
   },
   "source": [
    "# Plot learning progress in TensorBoard\n",
    "\n",
    "## Modified from\n",
    "https://www.tensorflow.org/get_started/\n",
    "\n",
    "## Summary explanation\n",
    "https://www.tensorflow.org/how_tos/summaries_and_tensorboard/"
   ]
  },
  {
   "cell_type": "code",
   "execution_count": 1,
   "metadata": {
    "collapsed": false,
    "deletable": true,
    "editable": true
   },
   "outputs": [
    {
     "name": "stdout",
     "output_type": "stream",
     "text": [
      "0 [ 0.69624752] [-0.06445298]\n",
      "20 [ 0.27042261] [ 0.20343961]\n",
      "40 [ 0.14779575] [ 0.27291924]\n",
      "60 [ 0.11340451] [ 0.2924051]\n",
      "80 [ 0.10375936] [ 0.29786998]\n",
      "100 [ 0.10105433] [ 0.29940262]\n",
      "120 [ 0.10029571] [ 0.29983246]\n",
      "140 [ 0.10008293] [ 0.29995301]\n",
      "160 [ 0.10002325] [ 0.29998684]\n",
      "180 [ 0.10000653] [ 0.29999632]\n",
      "200 [ 0.10000183] [ 0.29999897]\n"
     ]
    }
   ],
   "source": [
    "# code from https://www.tensorflow.org/get_started/\n",
    "\n",
    "import tensorflow as tf\n",
    "import numpy as np\n",
    "\n",
    "# ************************************************\n",
    "# ********** The Observeations *******************\n",
    "# ************************************************\n",
    "# Create 100 phony x, y data points in NumPy, y = x * 0.1 + 0.3\n",
    "x_data = np.random.rand(100).astype(np.float32)\n",
    "y_data = x_data * 0.1 + 0.3\n",
    "\n",
    "\n",
    "# ************************************************\n",
    "# ********** The Prediction Function (Model) *****\n",
    "# ************************************************\n",
    "# Added names to the variables and put them within a scope.\n",
    "# This will help the graph make more sense.\n",
    "# Changed y to y_pred so is not confused with generic y on graph\n",
    "with tf.variable_scope('model'):\n",
    "    W = tf.Variable(tf.random_uniform([1], -1.0, 1.0),name='W')\n",
    "    b = tf.Variable(tf.zeros([1]),name='b')\n",
    "    y_pred = W * x_data + b\n",
    "\n",
    "\n",
    "# ************************************************\n",
    "# ********** The Error Function ******************\n",
    "# ************************************************\n",
    "# Minimize the mean squared errors.\n",
    "with tf.variable_scope('error_function'):\n",
    "    loss = tf.reduce_mean(tf.square(y_pred - y_data))\n",
    "\n",
    "    \n",
    "optimizer = tf.train.GradientDescentOptimizer(0.5)\n",
    "train = optimizer.minimize(loss)\n",
    "\n",
    "# Before starting, initialize the variables.  We will 'run' this first.\n",
    "init = tf.global_variables_initializer()\n",
    "\n",
    "# Launch the graph.\n",
    "sess = tf.Session()\n",
    "sess.run(init)\n",
    "\n",
    "#*************************************************\n",
    "# jwm: Create the summary writer\n",
    "tb_dir = '/Users/jmugan/tensorlog/' # jwm: create this directory (no jmugan, of course)\n",
    "sum_writer = tf.summary.FileWriter(tb_dir,sess.graph)\n",
    "\n",
    "# jwm: Add a summary for loss\n",
    "tf.summary.scalar('loss', loss)\n",
    "\n",
    "# jwm: Add histogram summaries\n",
    "vars = tf.trainable_variables()\n",
    "for variable in vars:\n",
    "    # jwm: get rid of warning: \n",
    "    # INFO:tensorflow:Summary name W:0 is illegal; using W_0 instead.\n",
    "    tf.summary.histogram(variable.name.replace(':','_'), variable)\n",
    "\n",
    "# Grab all of the summaries\n",
    "merged = tf.summary.merge_all()\n",
    "#*************************************************\n",
    "\n",
    "# Fit the line.\n",
    "for step in range(201):\n",
    "    # Add merged op to session.run calll\n",
    "    out = sess.run([train, merged])\n",
    "    sum_writer.add_summary(out[1],step)  #  <------- Must add summary\n",
    "    if step % 20 == 0:\n",
    "        print(step, sess.run(W), sess.run(b))\n",
    "\n",
    "# Learns best fit is W: [0.1], b: [0.3]"
   ]
  },
  {
   "cell_type": "markdown",
   "metadata": {
    "deletable": true,
    "editable": true
   },
   "source": [
    "# Look in /Users/jmugan/tensorboard (your directory)\n",
    "# Run\n",
    "\n",
    "# `tensorboard --logdir=/Users/jmugan/tensorlog`"
   ]
  },
  {
   "cell_type": "code",
   "execution_count": null,
   "metadata": {
    "collapsed": true,
    "deletable": true,
    "editable": true
   },
   "outputs": [],
   "source": []
  }
 ],
 "metadata": {
  "kernelspec": {
   "display_name": "Python 3",
   "language": "python",
   "name": "python3"
  },
  "language_info": {
   "codemirror_mode": {
    "name": "ipython",
    "version": 3
   },
   "file_extension": ".py",
   "mimetype": "text/x-python",
   "name": "python",
   "nbconvert_exporter": "python",
   "pygments_lexer": "ipython3",
   "version": "3.6.0"
  }
 },
 "nbformat": 4,
 "nbformat_minor": 2
}
