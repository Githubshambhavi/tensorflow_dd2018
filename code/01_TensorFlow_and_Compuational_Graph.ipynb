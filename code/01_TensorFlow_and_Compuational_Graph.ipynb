{
 "cells": [
  {
   "cell_type": "code",
   "execution_count": 1,
   "metadata": {},
   "outputs": [
    {
     "name": "stderr",
     "output_type": "stream",
     "text": [
      "/usr/local/Cellar/python3/3.6.2/Frameworks/Python.framework/Versions/3.6/lib/python3.6/importlib/_bootstrap.py:205: RuntimeWarning: compiletime version 3.5 of module 'tensorflow.python.framework.fast_tensor_util' does not match runtime version 3.6\n",
      "  return f(*args, **kwds)\n"
     ]
    },
    {
     "name": "stdout",
     "output_type": "stream",
     "text": [
      "1.4.1\n"
     ]
    }
   ],
   "source": [
    "import tensorflow as tf\n",
    "print(tf.__version__)"
   ]
  },
  {
   "cell_type": "markdown",
   "metadata": {},
   "source": [
    "## Define the graph"
   ]
  },
  {
   "cell_type": "code",
   "execution_count": 2,
   "metadata": {},
   "outputs": [
    {
     "name": "stdout",
     "output_type": "stream",
     "text": [
      "Tensor(\"x_const:0\", shape=(), dtype=int32)\n",
      "Tensor(\"y_var:0\", dtype=int32)\n",
      "y_var:0\n",
      "Tensor(\"add:0\", dtype=int32)\n"
     ]
    }
   ],
   "source": [
    "x = tf.constant(4, name=\"x_const\") # look at the graph\n",
    "\n",
    "# Placeholders are one way data is fed into TensorFlow\n",
    "y = tf.placeholder(tf.int32, name=\"y_var\") #placeholder : feed training data into your graph\n",
    "\n",
    "z = x + y # you get node while print z ()it is equivanlent to function\n",
    "\n",
    "print(x) \n",
    "print(y)\n",
    "print(y.name)\n",
    "print(z)"
   ]
  },
  {
   "cell_type": "markdown",
   "metadata": {},
   "source": [
    "## Create a session and run it.\n",
    "\n",
    "### First argument of `run` is the values you want out, and the second arguments are the values you want to put in.\n",
    "\n",
    "### `y` is the placeholder, we first feed it the value 5 and then the value 15."
   ]
  },
  {
   "cell_type": "code",
   "execution_count": 3,
   "metadata": {},
   "outputs": [
    {
     "name": "stdout",
     "output_type": "stream",
     "text": [
      "9\n",
      "4\n",
      "19\n"
     ]
    }
   ],
   "source": [
    "#Take my graph and do the real thing\n",
    "\n",
    "with tf.Session() as sess:\n",
    "    print(sess.run(z,{y:5}))\n",
    "    print(x.eval()) # evaluate the node and give me the number in the node\n",
    "    print(sess.run(z,{y:15}))\n",
    "    "
   ]
  },
  {
   "cell_type": "code",
   "execution_count": 5,
   "metadata": {},
   "outputs": [
    {
     "name": "stdout",
     "output_type": "stream",
     "text": [
      "[8, 21]\n"
     ]
    }
   ],
   "source": [
    "zz = z + 13\n",
    "with tf.Session() as sess:\n",
    "    # sess.run() takes output_feed, which is a list (or single var or dict)\n",
    "    # and input_feed, which is a dictionary of placeholder\n",
    "    print(sess.run([z,zz],{y:4}))"
   ]
  },
  {
   "cell_type": "markdown",
   "metadata": {},
   "source": [
    "### This seems like a lot of work for nothing, but remember that the graph allows TensorFlow to do calculus for us, as we will see later.\n",
    "\n",
    "### Visualizing graphs is a good way to debug your code. "
   ]
  },
  {
   "cell_type": "code",
   "execution_count": 6,
   "metadata": {},
   "outputs": [],
   "source": [
    "# Lets look at our graph in TensorBoard\n",
    "tb_dir = '/Users/shambhavi.srivastava/tensorflow_dataday2018/tensorlog/' # create this directory (no jmugan, of course)\n",
    "with tf.Session() as sess:\n",
    "    sum_writer = tf.summary.FileWriter(tb_dir,sess.graph)"
   ]
  },
  {
   "cell_type": "markdown",
   "metadata": {},
   "source": [
    "# Look in /Users/jmugan/tensorboard (your directory)\n",
    "\n",
    "# `tensorboard --logdir=/Users/jmugan/tensorlog`"
   ]
  },
  {
   "cell_type": "code",
   "execution_count": null,
   "metadata": {
    "collapsed": true
   },
   "outputs": [],
   "source": []
  }
 ],
 "metadata": {
  "kernelspec": {
   "display_name": "Python 3",
   "language": "python",
   "name": "python3"
  },
  "language_info": {
   "codemirror_mode": {
    "name": "ipython",
    "version": 3
   },
   "file_extension": ".py",
   "mimetype": "text/x-python",
   "name": "python",
   "nbconvert_exporter": "python",
   "pygments_lexer": "ipython3",
   "version": "3.6.2"
  }
 },
 "nbformat": 4,
 "nbformat_minor": 1
}
